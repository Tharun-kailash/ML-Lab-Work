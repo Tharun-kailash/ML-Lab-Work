{
 "cells": [
  {
   "cell_type": "code",
   "execution_count": 17,
   "metadata": {},
   "outputs": [],
   "source": [
    "import pandas as pd;\n",
    "import numpy as np;\n",
    "import matplotlib.pyplot as plt;\n",
    "import seaborn as sns;\n",
    "import warnings\n",
    "warnings.filterwarnings(\"ignore\")\n",
    "%matplotlib inline"
   ]
  },
  {
   "cell_type": "code",
   "execution_count": 20,
   "metadata": {},
   "outputs": [
    {
     "name": "stdout",
     "output_type": "stream",
     "text": [
      "     eyes      nose hair face color face shape Smile\n",
      "0  circle  triangle  yes     purple     circle   yes\n",
      "1  square    square  yes      green     square    no\n",
      "2  square  triangle  yes     yellow     circle   yes\n",
      "3  circle  triangle   no      green     circle    no\n",
      "4  square    square  yes     yellow     circle   yes \n",
      "\n"
     ]
    }
   ],
   "source": [
    "data = pd.read_csv(\"face_data.csv\")\n",
    "print(data,\"\\n\")"
   ]
  },
  {
   "cell_type": "code",
   "execution_count": 21,
   "metadata": {},
   "outputs": [
    {
     "data": {
      "text/html": [
       "<div>\n",
       "<style scoped>\n",
       "    .dataframe tbody tr th:only-of-type {\n",
       "        vertical-align: middle;\n",
       "    }\n",
       "\n",
       "    .dataframe tbody tr th {\n",
       "        vertical-align: top;\n",
       "    }\n",
       "\n",
       "    .dataframe thead th {\n",
       "        text-align: right;\n",
       "    }\n",
       "</style>\n",
       "<table border=\"1\" class=\"dataframe\">\n",
       "  <thead>\n",
       "    <tr style=\"text-align: right;\">\n",
       "      <th></th>\n",
       "      <th>eyes</th>\n",
       "      <th>nose</th>\n",
       "      <th>hair</th>\n",
       "      <th>face color</th>\n",
       "      <th>face shape</th>\n",
       "      <th>Smile</th>\n",
       "    </tr>\n",
       "  </thead>\n",
       "  <tbody>\n",
       "    <tr>\n",
       "      <th>count</th>\n",
       "      <td>5</td>\n",
       "      <td>5</td>\n",
       "      <td>5</td>\n",
       "      <td>5</td>\n",
       "      <td>5</td>\n",
       "      <td>5</td>\n",
       "    </tr>\n",
       "    <tr>\n",
       "      <th>unique</th>\n",
       "      <td>2</td>\n",
       "      <td>2</td>\n",
       "      <td>2</td>\n",
       "      <td>3</td>\n",
       "      <td>2</td>\n",
       "      <td>2</td>\n",
       "    </tr>\n",
       "    <tr>\n",
       "      <th>top</th>\n",
       "      <td>square</td>\n",
       "      <td>triangle</td>\n",
       "      <td>yes</td>\n",
       "      <td>green</td>\n",
       "      <td>circle</td>\n",
       "      <td>yes</td>\n",
       "    </tr>\n",
       "    <tr>\n",
       "      <th>freq</th>\n",
       "      <td>3</td>\n",
       "      <td>3</td>\n",
       "      <td>4</td>\n",
       "      <td>2</td>\n",
       "      <td>4</td>\n",
       "      <td>3</td>\n",
       "    </tr>\n",
       "  </tbody>\n",
       "</table>\n",
       "</div>"
      ],
      "text/plain": [
       "          eyes      nose hair face color face shape Smile\n",
       "count        5         5    5          5          5     5\n",
       "unique       2         2    2          3          2     2\n",
       "top     square  triangle  yes      green     circle   yes\n",
       "freq         3         3    4          2          4     3"
      ]
     },
     "execution_count": 21,
     "metadata": {},
     "output_type": "execute_result"
    }
   ],
   "source": [
    "data.describe()"
   ]
  },
  {
   "cell_type": "code",
   "execution_count": 30,
   "metadata": {},
   "outputs": [
    {
     "name": "stdout",
     "output_type": "stream",
     "text": [
      "Attributes:  [['circle' 'triangle' 'yes' 'purple' 'circle']\n",
      " ['square' 'square' 'yes' 'green' 'square']\n",
      " ['square' 'triangle' 'yes' 'yellow' 'circle']\n",
      " ['circle' 'triangle' 'no' 'green' 'circle']\n",
      " ['square' 'square' 'yes' 'yellow' 'circle']]\n",
      "\n",
      " The target is:  ['yes' 'no' 'yes' 'no' 'yes']\n"
     ]
    }
   ],
   "source": [
    "a=np.array(data)[:,:-1]\n",
    "print(\"Attributes: \",a)\n",
    "\n",
    "#segragating the target that has positive and negative examples\n",
    "t = np.array(data)[:,-1]\n",
    "print(\"\\n The target is: \",t)"
   ]
  },
  {
   "cell_type": "code",
   "execution_count": 36,
   "metadata": {},
   "outputs": [],
   "source": [
    "#training function to implement find-s algorithm\n",
    "def finds(c,t):\n",
    "    for i, val in enumerate(t):\n",
    "        if val == \"yes\":\n",
    "            specific_hypothesis = c[i].copy()\n",
    "        break\n",
    "    for i, val in enumerate(c):\n",
    "        if t[i] == \"yes\":\n",
    "            for x in range(len(specific_hypothesis)):\n",
    "                if val[x] != specific_hypothesis[x]:\n",
    "                    specific_hypothesis[x] = '?'\n",
    "                else:\n",
    "                    pass\n",
    "        print(\" \",specific_hypothesis)\n",
    "    return specific_hypothesis\n"
   ]
  },
  {
   "cell_type": "code",
   "execution_count": 37,
   "metadata": {},
   "outputs": [
    {
     "name": "stdout",
     "output_type": "stream",
     "text": [
      "  ['circle' 'triangle' 'yes' 'purple' 'circle']\n",
      "  ['circle' 'triangle' 'yes' 'purple' 'circle']\n",
      "  ['?' 'triangle' 'yes' '?' 'circle']\n",
      "  ['?' 'triangle' 'yes' '?' 'circle']\n",
      "  ['?' '?' 'yes' '?' 'circle']\n",
      "\n",
      " The final hypothesis is: ['?' '?' 'yes' '?' 'circle']\n"
     ]
    }
   ],
   "source": [
    "#obtaining the final hypothesis\n",
    "print(\"\\n The final hypothesis is:\",finds(a,t))"
   ]
  }
 ],
 "metadata": {
  "kernelspec": {
   "display_name": "Python 3.10.5 64-bit",
   "language": "python",
   "name": "python3"
  },
  "language_info": {
   "codemirror_mode": {
    "name": "ipython",
    "version": 3
   },
   "file_extension": ".py",
   "mimetype": "text/x-python",
   "name": "python",
   "nbconvert_exporter": "python",
   "pygments_lexer": "ipython3",
   "version": "3.10.5"
  },
  "orig_nbformat": 4,
  "vscode": {
   "interpreter": {
    "hash": "696b249316e859a3bf1fa7751419ff4f032c62c2d8ed092bd69e6aa546fc4902"
   }
  }
 },
 "nbformat": 4,
 "nbformat_minor": 2
}
