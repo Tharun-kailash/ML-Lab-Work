{
 "cells": [
  {
   "cell_type": "code",
   "execution_count": 14,
   "id": "c6514a5e",
   "metadata": {},
   "outputs": [],
   "source": [
    "#likes simon\n",
    "import pandas as pd\n",
    "import numpy as np"
   ]
  },
  {
   "cell_type": "code",
   "execution_count": 15,
   "id": "d197053e",
   "metadata": {},
   "outputs": [
    {
     "data": {
      "text/html": [
       "<div>\n",
       "<style scoped>\n",
       "    .dataframe tbody tr th:only-of-type {\n",
       "        vertical-align: middle;\n",
       "    }\n",
       "\n",
       "    .dataframe tbody tr th {\n",
       "        vertical-align: top;\n",
       "    }\n",
       "\n",
       "    .dataframe thead th {\n",
       "        text-align: right;\n",
       "    }\n",
       "</style>\n",
       "<table border=\"1\" class=\"dataframe\">\n",
       "  <thead>\n",
       "    <tr style=\"text-align: right;\">\n",
       "      <th></th>\n",
       "      <th>Hair</th>\n",
       "      <th>Body</th>\n",
       "      <th>LikePramod</th>\n",
       "      <th>Pose</th>\n",
       "      <th>Smile</th>\n",
       "      <th>Smart</th>\n",
       "      <th>Accept</th>\n",
       "    </tr>\n",
       "  </thead>\n",
       "  <tbody>\n",
       "    <tr>\n",
       "      <th>0</th>\n",
       "      <td>Blond</td>\n",
       "      <td>Thin</td>\n",
       "      <td>Yes</td>\n",
       "      <td>Arrogant</td>\n",
       "      <td>Thooty</td>\n",
       "      <td>No</td>\n",
       "      <td>yes</td>\n",
       "    </tr>\n",
       "    <tr>\n",
       "      <th>1</th>\n",
       "      <td>Brown</td>\n",
       "      <td>Thin</td>\n",
       "      <td>No</td>\n",
       "      <td>Natural</td>\n",
       "      <td>Pleasant</td>\n",
       "      <td>Yes</td>\n",
       "      <td>no</td>\n",
       "    </tr>\n",
       "    <tr>\n",
       "      <th>2</th>\n",
       "      <td>Blond</td>\n",
       "      <td>Plump</td>\n",
       "      <td>Yes</td>\n",
       "      <td>Goofy</td>\n",
       "      <td>Pleasant</td>\n",
       "      <td>No</td>\n",
       "      <td>yes</td>\n",
       "    </tr>\n",
       "    <tr>\n",
       "      <th>3</th>\n",
       "      <td>Black</td>\n",
       "      <td>Thin</td>\n",
       "      <td>No</td>\n",
       "      <td>Arrogant</td>\n",
       "      <td>None</td>\n",
       "      <td>No</td>\n",
       "      <td>no</td>\n",
       "    </tr>\n",
       "    <tr>\n",
       "      <th>4</th>\n",
       "      <td>Blond</td>\n",
       "      <td>Plump</td>\n",
       "      <td>No</td>\n",
       "      <td>Natural</td>\n",
       "      <td>Thooty</td>\n",
       "      <td>Yes</td>\n",
       "      <td>no</td>\n",
       "    </tr>\n",
       "  </tbody>\n",
       "</table>\n",
       "</div>"
      ],
      "text/plain": [
       "    Hair   Body LikePramod      Pose     Smile Smart Accept\n",
       "0  Blond   Thin        Yes  Arrogant    Thooty    No    yes\n",
       "1  Brown   Thin         No   Natural  Pleasant   Yes     no\n",
       "2  Blond  Plump        Yes     Goofy  Pleasant    No    yes\n",
       "3  Black   Thin         No  Arrogant      None    No     no\n",
       "4  Blond  Plump         No   Natural    Thooty   Yes     no"
      ]
     },
     "execution_count": 15,
     "metadata": {},
     "output_type": "execute_result"
    }
   ],
   "source": [
    "df=pd.read_csv('candidate_algo_1.csv')\n",
    "df"
   ]
  },
  {
   "cell_type": "code",
   "execution_count": 16,
   "id": "69007b62",
   "metadata": {},
   "outputs": [
    {
     "data": {
      "text/plain": [
       "array([['Blond', 'Thin', 'Yes', 'Arrogant', 'Thooty', 'No'],\n",
       "       ['Brown', 'Thin', 'No', 'Natural', 'Pleasant', 'Yes'],\n",
       "       ['Blond', 'Plump', 'Yes', 'Goofy', 'Pleasant', 'No'],\n",
       "       ['Black', 'Thin', 'No', 'Arrogant', 'None', 'No'],\n",
       "       ['Blond', 'Plump', 'No', 'Natural', 'Thooty', 'Yes']], dtype=object)"
      ]
     },
     "execution_count": 16,
     "metadata": {},
     "output_type": "execute_result"
    }
   ],
   "source": [
    "df1=np.array(df)[:,:-1]\n",
    "df1"
   ]
  },
  {
   "cell_type": "code",
   "execution_count": 17,
   "id": "5193d475",
   "metadata": {},
   "outputs": [
    {
     "data": {
      "text/plain": [
       "array(['yes', 'no', 'yes', 'no', 'no'], dtype=object)"
      ]
     },
     "execution_count": 17,
     "metadata": {},
     "output_type": "execute_result"
    }
   ],
   "source": [
    "target=np.array(df)[:,-1]\n",
    "target"
   ]
  },
  {
   "cell_type": "code",
   "execution_count": 29,
   "id": "269ba13a",
   "metadata": {},
   "outputs": [],
   "source": [
    "def train(concepts, target):   \n",
    "    specific_h = concepts[0].copy()\n",
    "  #  print(\"\\nInitialization of specific and genearal hypothesis : \")   \n",
    "    print(\"\\nSpecific Boundary: \", specific_h)\n",
    "    general_h = [\n",
    "                    [\"?\" for i in range(len(specific_h))]  #[?,?,?,?,?,?]\n",
    "                     for i in range(len(specific_h))\n",
    "                ]\n",
    "    \n",
    "    print(\"\\nGeneric Boundary : \")  \n",
    "    for i in range(len(specific_h)):\n",
    "        print(general_h[i],end = '\\n')\n",
    "        \n",
    "    for i, h in enumerate(df1):\n",
    "        print(\"\\nInstance\", i+1 , \": \", h)\n",
    "        if target[i] == 'yes':\n",
    "            print(\"\\n<Instance is Positive>\\n\")\n",
    "            for x in range(len(specific_h)): \n",
    "                if h[x]!= specific_h[x]:                    \n",
    "                    specific_h[x] ='?'                     \n",
    "                    general_h[x][x] ='?'\n",
    "                   \n",
    "        if target[i] == 'no':            \n",
    "            print(\"\\n<Instance is Negative>\\n\")\n",
    "            for x in range(len(specific_h)): \n",
    "                if h[x]!= specific_h[x]:                    \n",
    "                    general_h[x][x] = specific_h[x]                \n",
    "                else:                    \n",
    "                    general_h[x][x] = '?'        \n",
    "        \n",
    "        print(\"Specific Bundary after Instance\",i+1,\" is \", specific_h)         \n",
    "        print(\"\\nGeneric Boundary after Instance\",i+1,\" is \\n\")\n",
    "        for i in range(len(specific_h)):\n",
    "            print(general_h[i],end = '\\n')\n",
    "        print(\"\\n\")   \n",
    "    indices = [\n",
    "                    i for i, val in enumerate(general_h) \n",
    "                    if val == ['?', '?', '?', '?', '?', '?']\n",
    "              ]    \n",
    "    \n",
    "    for i in indices:   \n",
    "        general_h.remove(['?', '?', '?', '?', '?', '?']) \n",
    "    return specific_h, general_h \n"
   ]
  },
  {
   "cell_type": "code",
   "execution_count": 30,
   "id": "39052856",
   "metadata": {},
   "outputs": [
    {
     "name": "stdout",
     "output_type": "stream",
     "text": [
      "\n",
      "Specific Boundary:  ['Blond' 'Thin' 'Yes' 'Arrogant' 'Thooty' 'No']\n",
      "\n",
      "Generic Boundary : \n",
      "['?', '?', '?', '?', '?', '?']\n",
      "['?', '?', '?', '?', '?', '?']\n",
      "['?', '?', '?', '?', '?', '?']\n",
      "['?', '?', '?', '?', '?', '?']\n",
      "['?', '?', '?', '?', '?', '?']\n",
      "['?', '?', '?', '?', '?', '?']\n",
      "\n",
      "Instance 1 :  ['Blond' 'Thin' 'Yes' 'Arrogant' 'Thooty' 'No']\n",
      "\n",
      "<Instance is Positive>\n",
      "\n",
      "Specific Bundary after Instance 1  is  ['Blond' 'Thin' 'Yes' 'Arrogant' 'Thooty' 'No']\n",
      "\n",
      "Generic Boundary after Instance 1  is \n",
      "\n",
      "['?', '?', '?', '?', '?', '?']\n",
      "['?', '?', '?', '?', '?', '?']\n",
      "['?', '?', '?', '?', '?', '?']\n",
      "['?', '?', '?', '?', '?', '?']\n",
      "['?', '?', '?', '?', '?', '?']\n",
      "['?', '?', '?', '?', '?', '?']\n",
      "\n",
      "\n",
      "\n",
      "Instance 2 :  ['Brown' 'Thin' 'No' 'Natural' 'Pleasant' 'Yes']\n",
      "\n",
      "<Instance is Negative>\n",
      "\n",
      "Specific Bundary after Instance 2  is  ['Blond' 'Thin' 'Yes' 'Arrogant' 'Thooty' 'No']\n",
      "\n",
      "Generic Boundary after Instance 2  is \n",
      "\n",
      "['Blond', '?', '?', '?', '?', '?']\n",
      "['?', '?', '?', '?', '?', '?']\n",
      "['?', '?', 'Yes', '?', '?', '?']\n",
      "['?', '?', '?', 'Arrogant', '?', '?']\n",
      "['?', '?', '?', '?', 'Thooty', '?']\n",
      "['?', '?', '?', '?', '?', 'No']\n",
      "\n",
      "\n",
      "\n",
      "Instance 3 :  ['Blond' 'Plump' 'Yes' 'Goofy' 'Pleasant' 'No']\n",
      "\n",
      "<Instance is Positive>\n",
      "\n",
      "Specific Bundary after Instance 3  is  ['Blond' '?' 'Yes' '?' '?' 'No']\n",
      "\n",
      "Generic Boundary after Instance 3  is \n",
      "\n",
      "['Blond', '?', '?', '?', '?', '?']\n",
      "['?', '?', '?', '?', '?', '?']\n",
      "['?', '?', 'Yes', '?', '?', '?']\n",
      "['?', '?', '?', '?', '?', '?']\n",
      "['?', '?', '?', '?', '?', '?']\n",
      "['?', '?', '?', '?', '?', 'No']\n",
      "\n",
      "\n",
      "\n",
      "Instance 4 :  ['Black' 'Thin' 'No' 'Arrogant' 'None' 'No']\n",
      "\n",
      "<Instance is Negative>\n",
      "\n",
      "Specific Bundary after Instance 4  is  ['Blond' '?' 'Yes' '?' '?' 'No']\n",
      "\n",
      "Generic Boundary after Instance 4  is \n",
      "\n",
      "['Blond', '?', '?', '?', '?', '?']\n",
      "['?', '?', '?', '?', '?', '?']\n",
      "['?', '?', 'Yes', '?', '?', '?']\n",
      "['?', '?', '?', '?', '?', '?']\n",
      "['?', '?', '?', '?', '?', '?']\n",
      "['?', '?', '?', '?', '?', '?']\n",
      "\n",
      "\n",
      "\n",
      "Instance 5 :  ['Blond' 'Plump' 'No' 'Natural' 'Thooty' 'Yes']\n",
      "\n",
      "<Instance is Negative>\n",
      "\n",
      "Specific Bundary after Instance 5  is  ['Blond' '?' 'Yes' '?' '?' 'No']\n",
      "\n",
      "Generic Boundary after Instance 5  is \n",
      "\n",
      "['?', '?', '?', '?', '?', '?']\n",
      "['?', '?', '?', '?', '?', '?']\n",
      "['?', '?', 'Yes', '?', '?', '?']\n",
      "['?', '?', '?', '?', '?', '?']\n",
      "['?', '?', '?', '?', '?', '?']\n",
      "['?', '?', '?', '?', '?', 'No']\n",
      "\n",
      "\n"
     ]
    }
   ],
   "source": [
    "final_s,final_g=train(df1,target)"
   ]
  },
  {
   "cell_type": "code",
   "execution_count": 34,
   "id": "0a6fdaca",
   "metadata": {},
   "outputs": [
    {
     "name": "stdout",
     "output_type": "stream",
     "text": [
      "Final Specific hypothesis: \n",
      "['Blond' '?' 'Yes' '?' '?' 'No']\n",
      "\n",
      "Final General hypothesis : \n",
      "['?', '?', 'Yes', '?', '?', '?']\n",
      "['?', '?', '?', '?', '?', 'No']\n"
     ]
    }
   ],
   "source": [
    "print(\"Final Specific hypothesis: \", final_s, sep=\"\\n\")\n",
    "print(\"\\nFinal General hypothesis : \")\n",
    "for i in final_g:\n",
    "    print(i, sep=\"\\n\")"
   ]
  }
 ],
 "metadata": {
  "kernelspec": {
   "display_name": "Python 3.10.5 64-bit",
   "language": "python",
   "name": "python3"
  },
  "language_info": {
   "codemirror_mode": {
    "name": "ipython",
    "version": 3
   },
   "file_extension": ".py",
   "mimetype": "text/x-python",
   "name": "python",
   "nbconvert_exporter": "python",
   "pygments_lexer": "ipython3",
   "version": "3.10.5"
  },
  "vscode": {
   "interpreter": {
    "hash": "696b249316e859a3bf1fa7751419ff4f032c62c2d8ed092bd69e6aa546fc4902"
   }
  }
 },
 "nbformat": 4,
 "nbformat_minor": 5
}
