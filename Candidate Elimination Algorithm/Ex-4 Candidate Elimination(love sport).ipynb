{
 "cells": [
  {
   "cell_type": "code",
   "execution_count": 1,
   "metadata": {},
   "outputs": [],
   "source": [
    "#love sport\n",
    "import pandas as pd;\n",
    "import numpy as np;"
   ]
  },
  {
   "cell_type": "code",
   "execution_count": 2,
   "metadata": {},
   "outputs": [
    {
     "data": {
      "text/html": [
       "<div>\n",
       "<style scoped>\n",
       "    .dataframe tbody tr th:only-of-type {\n",
       "        vertical-align: middle;\n",
       "    }\n",
       "\n",
       "    .dataframe tbody tr th {\n",
       "        vertical-align: top;\n",
       "    }\n",
       "\n",
       "    .dataframe thead th {\n",
       "        text-align: right;\n",
       "    }\n",
       "</style>\n",
       "<table border=\"1\" class=\"dataframe\">\n",
       "  <thead>\n",
       "    <tr style=\"text-align: right;\">\n",
       "      <th></th>\n",
       "      <th>sky</th>\n",
       "      <th>airtemp</th>\n",
       "      <th>humidity</th>\n",
       "      <th>wind</th>\n",
       "      <th>water</th>\n",
       "      <th>forcast</th>\n",
       "      <th>enjoysport</th>\n",
       "    </tr>\n",
       "  </thead>\n",
       "  <tbody>\n",
       "    <tr>\n",
       "      <th>0</th>\n",
       "      <td>sunny</td>\n",
       "      <td>warm</td>\n",
       "      <td>normal</td>\n",
       "      <td>strong</td>\n",
       "      <td>warm</td>\n",
       "      <td>same</td>\n",
       "      <td>yes</td>\n",
       "    </tr>\n",
       "    <tr>\n",
       "      <th>1</th>\n",
       "      <td>sunny</td>\n",
       "      <td>warm</td>\n",
       "      <td>high</td>\n",
       "      <td>strong</td>\n",
       "      <td>warm</td>\n",
       "      <td>same</td>\n",
       "      <td>yes</td>\n",
       "    </tr>\n",
       "    <tr>\n",
       "      <th>2</th>\n",
       "      <td>rainy</td>\n",
       "      <td>cold</td>\n",
       "      <td>high</td>\n",
       "      <td>strong</td>\n",
       "      <td>warm</td>\n",
       "      <td>change</td>\n",
       "      <td>no</td>\n",
       "    </tr>\n",
       "    <tr>\n",
       "      <th>3</th>\n",
       "      <td>sunny</td>\n",
       "      <td>warm</td>\n",
       "      <td>high</td>\n",
       "      <td>strong</td>\n",
       "      <td>cool</td>\n",
       "      <td>change</td>\n",
       "      <td>yes</td>\n",
       "    </tr>\n",
       "  </tbody>\n",
       "</table>\n",
       "</div>"
      ],
      "text/plain": [
       "     sky airtemp humidity    wind water forcast enjoysport\n",
       "0  sunny    warm   normal  strong  warm    same        yes\n",
       "1  sunny    warm     high  strong  warm    same        yes\n",
       "2  rainy    cold     high  strong  warm  change         no\n",
       "3  sunny    warm     high  strong  cool  change        yes"
      ]
     },
     "execution_count": 2,
     "metadata": {},
     "output_type": "execute_result"
    }
   ],
   "source": [
    "df=pd.read_csv('candidate_algo_2.csv')\n",
    "df"
   ]
  },
  {
   "cell_type": "code",
   "execution_count": 3,
   "metadata": {},
   "outputs": [
    {
     "data": {
      "text/plain": [
       "array([['sunny', 'warm', 'normal', 'strong', 'warm', 'same', 'yes'],\n",
       "       ['sunny', 'warm', 'high', 'strong', 'warm', 'same', 'yes'],\n",
       "       ['rainy', 'cold', 'high', 'strong', 'warm', 'change', 'no'],\n",
       "       ['sunny', 'warm', 'high', 'strong', 'cool', 'change', 'yes']],\n",
       "      dtype=object)"
      ]
     },
     "execution_count": 3,
     "metadata": {},
     "output_type": "execute_result"
    }
   ],
   "source": [
    "np.array(df)"
   ]
  },
  {
   "cell_type": "code",
   "execution_count": 4,
   "metadata": {},
   "outputs": [
    {
     "name": "stdout",
     "output_type": "stream",
     "text": [
      "\n",
      "Instances are:\n",
      "\n",
      " [['sunny' 'warm' 'normal' 'strong' 'warm' 'same']\n",
      " ['sunny' 'warm' 'high' 'strong' 'warm' 'same']\n",
      " ['rainy' 'cold' 'high' 'strong' 'warm' 'change']\n",
      " ['sunny' 'warm' 'high' 'strong' 'cool' 'change']]\n"
     ]
    }
   ],
   "source": [
    "df1=np.array(df)[:,:-1]\n",
    "print(\"\\nInstances are:\\n\\n\",df1)"
   ]
  },
  {
   "cell_type": "code",
   "execution_count": 5,
   "metadata": {},
   "outputs": [
    {
     "name": "stdout",
     "output_type": "stream",
     "text": [
      "\n",
      "Target Values are: \n",
      "\n",
      " ['yes' 'yes' 'no' 'yes']\n"
     ]
    }
   ],
   "source": [
    "target=np.array(df)[:,-1]\n",
    "print(\"\\nTarget Values are: \\n\\n\",target)"
   ]
  },
  {
   "cell_type": "code",
   "execution_count": 6,
   "metadata": {},
   "outputs": [],
   "source": [
    "def train(concepts, target): \n",
    "    \n",
    "    specific_h = concepts[0].copy()\n",
    "    print(\"\\nSpecific Boundary: \", specific_h)\n",
    "    \n",
    "    general_h = [\n",
    "                    [\"?\" for i in range(len(specific_h))]  #[?,?,?,?,?,?]\n",
    "        \n",
    "                     for i in range(len(specific_h))\n",
    "                ]\n",
    "    \n",
    "    print(\"\\nGeneric Boundary : \")  \n",
    "    for i in range(len(specific_h)):\n",
    "        print(general_h[i],end = '\\n')\n",
    "        \n",
    "    for i, h in enumerate(df1):\n",
    "        print(\"\\nInstance\", i+1 , \": \", h)\n",
    "        if target[i] == \"yes\":\n",
    "            print(\"\\n<Instance is Positive>\\n\")\n",
    "            for x in range(len(specific_h)): \n",
    "                if h[x]!= specific_h[x]:                    \n",
    "                    specific_h[x] ='?'                     \n",
    "                    general_h[x][x] ='?'\n",
    "                   \n",
    "        if target[i] == \"no\":            \n",
    "            print(\"\\n<Instance is Negative>\\n\")\n",
    "            for x in range(len(specific_h)): \n",
    "                if h[x]!= specific_h[x]:                    \n",
    "                    general_h[x][x] = specific_h[x]                \n",
    "                else:                    \n",
    "                    general_h[x][x] = '?'        \n",
    "        \n",
    "        print(\"Specific Boundary after Instance\",i+1,\" is \", specific_h)         \n",
    "        print(\"\\nGeneric Boundary after Instance\",i+1,\" is \\n\")\n",
    "        for i in range(len(specific_h)):\n",
    "            print(general_h[i],end = '\\n')\n",
    "        print(\"\\n\")\n",
    "\n",
    "    indices = [\n",
    "                    i for i, val in enumerate(general_h) \n",
    "                    if val == ['?', '?', '?', '?', '?', '?']\n",
    "              ]    \n",
    "    \n",
    "    for i in indices:   \n",
    "        general_h.remove(['?', '?', '?', '?', '?', '?']) \n",
    "        \n",
    "    return specific_h, general_h \n"
   ]
  },
  {
   "cell_type": "code",
   "execution_count": 7,
   "metadata": {},
   "outputs": [
    {
     "name": "stdout",
     "output_type": "stream",
     "text": [
      "\n",
      "Specific Boundary:  ['sunny' 'warm' 'normal' 'strong' 'warm' 'same']\n",
      "\n",
      "Generic Boundary : \n",
      "['?', '?', '?', '?', '?', '?']\n",
      "['?', '?', '?', '?', '?', '?']\n",
      "['?', '?', '?', '?', '?', '?']\n",
      "['?', '?', '?', '?', '?', '?']\n",
      "['?', '?', '?', '?', '?', '?']\n",
      "['?', '?', '?', '?', '?', '?']\n",
      "\n",
      "Instance 1 :  ['sunny' 'warm' 'normal' 'strong' 'warm' 'same']\n",
      "\n",
      "<Instance is Positive>\n",
      "\n",
      "Specific Boundary after Instance 1  is  ['sunny' 'warm' 'normal' 'strong' 'warm' 'same']\n",
      "\n",
      "Generic Boundary after Instance 1  is \n",
      "\n",
      "['?', '?', '?', '?', '?', '?']\n",
      "['?', '?', '?', '?', '?', '?']\n",
      "['?', '?', '?', '?', '?', '?']\n",
      "['?', '?', '?', '?', '?', '?']\n",
      "['?', '?', '?', '?', '?', '?']\n",
      "['?', '?', '?', '?', '?', '?']\n",
      "\n",
      "\n",
      "\n",
      "Instance 2 :  ['sunny' 'warm' 'high' 'strong' 'warm' 'same']\n",
      "\n",
      "<Instance is Positive>\n",
      "\n",
      "Specific Boundary after Instance 2  is  ['sunny' 'warm' '?' 'strong' 'warm' 'same']\n",
      "\n",
      "Generic Boundary after Instance 2  is \n",
      "\n",
      "['?', '?', '?', '?', '?', '?']\n",
      "['?', '?', '?', '?', '?', '?']\n",
      "['?', '?', '?', '?', '?', '?']\n",
      "['?', '?', '?', '?', '?', '?']\n",
      "['?', '?', '?', '?', '?', '?']\n",
      "['?', '?', '?', '?', '?', '?']\n",
      "\n",
      "\n",
      "\n",
      "Instance 3 :  ['rainy' 'cold' 'high' 'strong' 'warm' 'change']\n",
      "\n",
      "<Instance is Negative>\n",
      "\n",
      "Specific Boundary after Instance 3  is  ['sunny' 'warm' '?' 'strong' 'warm' 'same']\n",
      "\n",
      "Generic Boundary after Instance 3  is \n",
      "\n",
      "['sunny', '?', '?', '?', '?', '?']\n",
      "['?', 'warm', '?', '?', '?', '?']\n",
      "['?', '?', '?', '?', '?', '?']\n",
      "['?', '?', '?', '?', '?', '?']\n",
      "['?', '?', '?', '?', '?', '?']\n",
      "['?', '?', '?', '?', '?', 'same']\n",
      "\n",
      "\n",
      "\n",
      "Instance 4 :  ['sunny' 'warm' 'high' 'strong' 'cool' 'change']\n",
      "\n",
      "<Instance is Positive>\n",
      "\n",
      "Specific Boundary after Instance 4  is  ['sunny' 'warm' '?' 'strong' '?' '?']\n",
      "\n",
      "Generic Boundary after Instance 4  is \n",
      "\n",
      "['sunny', '?', '?', '?', '?', '?']\n",
      "['?', 'warm', '?', '?', '?', '?']\n",
      "['?', '?', '?', '?', '?', '?']\n",
      "['?', '?', '?', '?', '?', '?']\n",
      "['?', '?', '?', '?', '?', '?']\n",
      "['?', '?', '?', '?', '?', '?']\n",
      "\n",
      "\n"
     ]
    }
   ],
   "source": [
    "s_final, g_final = train(df1, target)"
   ]
  },
  {
   "cell_type": "code",
   "execution_count": 8,
   "metadata": {},
   "outputs": [
    {
     "name": "stdout",
     "output_type": "stream",
     "text": [
      "Final Specific hypothesis: \n",
      "['sunny' 'warm' '?' 'strong' '?' '?']\n",
      "\n",
      "Final General hypothesis : \n",
      "['sunny', '?', '?', '?', '?', '?']\n",
      "['?', 'warm', '?', '?', '?', '?']\n"
     ]
    }
   ],
   "source": [
    "print(\"Final Specific hypothesis: \", s_final, sep=\"\\n\")\n",
    "print(\"\\nFinal General hypothesis : \")\n",
    "for i in range(len(g_final)):\n",
    "    print(g_final[i], sep=\"\\n\")"
   ]
  }
 ],
 "metadata": {
  "kernelspec": {
   "display_name": "Python 3.10.5 64-bit",
   "language": "python",
   "name": "python3"
  },
  "language_info": {
   "codemirror_mode": {
    "name": "ipython",
    "version": 3
   },
   "file_extension": ".py",
   "mimetype": "text/x-python",
   "name": "python",
   "nbconvert_exporter": "python",
   "pygments_lexer": "ipython3",
   "version": "3.10.5"
  },
  "orig_nbformat": 4,
  "vscode": {
   "interpreter": {
    "hash": "696b249316e859a3bf1fa7751419ff4f032c62c2d8ed092bd69e6aa546fc4902"
   }
  }
 },
 "nbformat": 4,
 "nbformat_minor": 2
}
